{
  "nbformat": 4,
  "nbformat_minor": 0,
  "metadata": {
    "colab": {
      "provenance": [],
      "gpuType": "T4"
    },
    "kernelspec": {
      "name": "python3",
      "display_name": "Python 3"
    },
    "language_info": {
      "name": "python"
    },
    "accelerator": "GPU"
  },
  "cells": [
    {
      "cell_type": "markdown",
      "source": [
        "Matheus Silva dos Santos - 22052573 <br>\n",
        "Felipe Fraxe Filho - 22251894"
      ],
      "metadata": {
        "id": "HzUlnKIXb-8k"
      }
    },
    {
      "cell_type": "markdown",
      "source": [
        "## Atividade Prática 3: Regras de Parada"
      ],
      "metadata": {
        "id": "mA6CqwGxsoGn"
      }
    },
    {
      "cell_type": "markdown",
      "source": [
        "### Parte 1 (Regra de Chow e Robbins)"
      ],
      "metadata": {
        "id": "7AHGHM3esykA"
      }
    },
    {
      "cell_type": "markdown",
      "source": [
        "**Objetivo**\n",
        "\n",
        "O objetivo desta parte da atividade é simular uma fila M/M/1 (chegadas e serviços exponenciais) com a regra de parada de Chow e Robbins. Essa regra permite determinar o número de clientes (n) necessário para atingir uma determinada precisão (d) no intervalo de confiança do tempo médio de espera na fila."
      ],
      "metadata": {
        "id": "N6CMfJRX8v0t"
      }
    },
    {
      "cell_type": "code",
      "source": [
        "# Importações necessárias\n",
        "\n",
        "import numpy as np\n",
        "import random\n",
        "import ADBib"
      ],
      "metadata": {
        "id": "Fi7rhM3xc3Hw"
      },
      "execution_count": 9,
      "outputs": []
    },
    {
      "cell_type": "markdown",
      "source": [
        "**Parâmetros do script abaixo:**\n",
        "\n",
        "- lambd = 9: Taxa de chegada de clientes (9 clientes por segundo).\n",
        "- mu = 10: Taxa de serviço do servidor (10 clientes por segundo).\n",
        "- n = 10**3: Valor inicial do número de clientes a serem simulados.\n",
        "- d: Precisão desejada no intervalo de confiança (valores testados: 1, 0.5, 0.1, 0.05).\n"
      ],
      "metadata": {
        "id": "_nV8CS5u87d5"
      }
    },
    {
      "cell_type": "code",
      "source": [
        "lambd = 9\n",
        "mu = 10\n",
        "\n",
        "n = 10 ** 3 # Valor inicial\n",
        "for d in [1, 0.5, 0.1, 0.05]:\n",
        "    H = d + 1\n",
        "    while H > d:\n",
        "        wait_times = np.zeros(n, dtype=np.float32)\n",
        "\n",
        "        for j in range(1, n):\n",
        "            service_time = random.expovariate(mu) # Tempo de serviço de j-1\n",
        "            arrival_time = random.expovariate(lambd) # Tempo de chegada de j\n",
        "\n",
        "            curr_wait_time = wait_times[j-1] - arrival_time + service_time\n",
        "\n",
        "            if curr_wait_time < 0:\n",
        "                curr_wait_time = 0\n",
        "            wait_times[j] = curr_wait_time\n",
        "\n",
        "        mean = ADBib.arithmetic_mean(wait_times)\n",
        "        ci = ADBib.confidence_interval(wait_times, mean, 0.95)\n",
        "        H = ci[1] - mean\n",
        "        if H > d:\n",
        "            n += 100\n",
        "\n",
        "    print(f\"\\nPara n = {n}:\")\n",
        "    print(f\"Para d = {d}\")\n",
        "    print(f\"Tempo Médio Estimado de Espera: {mean:.6f}\")\n",
        "    print(f\"Intervalo de Confiança de 95%: {ci}\")"
      ],
      "metadata": {
        "id": "tfOYAZSmlAGd",
        "colab": {
          "base_uri": "https://localhost:8080/"
        },
        "outputId": "4d1967d0-ce37-4333-fa7c-7c872d38137c"
      },
      "execution_count": 30,
      "outputs": [
        {
          "output_type": "stream",
          "name": "stdout",
          "text": [
            "\n",
            "Para n = 1000:\n",
            "Para d = 1\n",
            "Tempo Médio Estimado de Espera: 0.384401\n",
            "Intervalo de Confiança de 95%: (0.35997772511668286, 0.4088235510831861)\n",
            "\n",
            "Para n = 1000:\n",
            "Para d = 0.5\n",
            "Tempo Médio Estimado de Espera: 0.552739\n",
            "Intervalo de Confiança de 95%: (0.5232713572959228, 0.5822074936966483)\n",
            "\n",
            "Para n = 1100:\n",
            "Para d = 0.1\n",
            "Tempo Médio Estimado de Espera: 1.034179\n",
            "Intervalo de Confiança de 95%: (0.969434599332202, 1.098923685688708)\n",
            "\n",
            "Para n = 1100:\n",
            "Para d = 0.05\n",
            "Tempo Médio Estimado de Espera: 0.750704\n",
            "Intervalo de Confiança de 95%: (0.7129962580596803, 0.7884124695984067)\n"
          ]
        }
      ]
    },
    {
      "cell_type": "markdown",
      "source": [
        "**Conclusão dos Experimentos**\n",
        "\n",
        "Como os resultados de cada execução são aleatórios, vamos considerar os resultados abaixo para realizar a análise:\n",
        "\n",
        "Para n = 1000: <br>\n",
        "Para d = 1 <br>\n",
        "Tempo Médio Estimado de Espera: 0.384401 <br>\n",
        "Intervalo de Confiança de 95%: (0.35997772511668286, 0.4088235510831861)\n",
        "\n",
        "Para n = 1000: <br>\n",
        "Para d = 0.5 <br>\n",
        "Tempo Médio Estimado de Espera: 0. 552739 <br>\n",
        "Intervalo de Confiança de 95%: (0.5232713572959228, 0.5822074936966483)\n",
        "\n",
        "Para n = 1100: <br>\n",
        "Para d = 0.1 <br>\n",
        "Tempo Médio Estimado de Espera: 1.034179 <br>\n",
        "Intervalo de Confiança de 95%: (0.969434599332202, 1.098923685688708)\n",
        "\n",
        "Para n = 1100: <br>\n",
        "Para d = 0.05 <br>\n",
        "Tempo Médio Estimado de Espera: 0.750704 <br>\n",
        "Intervalo de Confiança de 95%: (0.7129962580596803, 0.7884124695984067)\n",
        "\n",
        "Os resultados acima mostra que, para atingir uma determinada precisão d no intervalo de confiança do tempo médio de espera, é necessário simular um número mínimo de clientes n. Observamos que:\n",
        "\n",
        "- Quanto menor o valor de d (maior precisão desejada), maior o número de clientes n necessário para que o tamanho do intervalo de confiança seja menor ou igual a d.\n",
        "\n",
        "- Para um mesmo valor de d, o tempo médio de espera estimado pode variar entre as execuções da simulação, devido à natureza aleatória do processo de chegada e serviço dos clientes.\n",
        "\n",
        "- O tempo médio de espera estimado tende a se aproximar do valor teórico (0.9 segundos para este sistema M/M/1) à medida que o número de clientes aumenta. No entanto, mesmo com um número relativamente grande de clientes (1100), a estimativa ainda pode estar um pouco distante do valor teórico, especialmente para valores de d menores.\n",
        "\n",
        "Os resultados da simulação mostram que a precisão desejada tem um impacto significativo no número de clientes necessário e que a convergência para o valor teórico é mais lenta para valores de d menores."
      ],
      "metadata": {
        "id": "m9uLNrju8QRW"
      }
    },
    {
      "cell_type": "markdown",
      "source": [
        "### Parte 2 (Regra do Tamanho Relativo do Intervalo de Confiança)"
      ],
      "metadata": {
        "id": "UzmkY2xTvQO2"
      }
    },
    {
      "cell_type": "markdown",
      "source": [
        "**Objetivo**\n",
        "\n",
        "O objetivo desta parte da atividade é simular uma fila M/M/1 (chegadas e serviços exponenciais) com a regra de parada baseada no tamanho relativo do intervalo de confiança. Essa regra permite determinar o número de clientes (n) necessário para atingir uma determinada precisão relativa (γ) na estimativa do tempo médio de espera na fila.\n",
        "\n"
      ],
      "metadata": {
        "id": "RnvwRIqDBY2g"
      }
    },
    {
      "cell_type": "code",
      "source": [
        "# Importações necessárias\n",
        "\n",
        "import numpy as np\n",
        "import random\n",
        "import matplotlib.pyplot as plt\n",
        "import ADBib"
      ],
      "metadata": {
        "id": "EBJ8NO8a9Ulq"
      },
      "execution_count": 31,
      "outputs": []
    },
    {
      "cell_type": "markdown",
      "source": [
        "**Parâmetros do script abaixo:**\n",
        "\n",
        "- lambd = 9: Taxa de chegada de clientes (9 clientes por segundo).\n",
        "- mu = 10: Taxa de serviço do servidor (10 clientes por segundo).\n",
        "- gamma = 0.05: Precisão relativa desejada (5%).\n",
        "- n = 10**3: Valor inicial do número de clientes a serem simulados."
      ],
      "metadata": {
        "id": "nglhioZHBd4B"
      }
    },
    {
      "cell_type": "code",
      "source": [
        "lambd = 9\n",
        "mu = 10\n",
        "gamma = 0.05\n",
        "\n",
        "n = 10 ** 3 # Valor inicial\n",
        "\n",
        "# Valores iniciais para garantir a entrada no loop\n",
        "mean = 1\n",
        "H = mean\n",
        "while (H / mean) > gamma:\n",
        "    wait_times = np.zeros(n, dtype=np.float32)\n",
        "\n",
        "    for j in range(1, n):\n",
        "        service_time = random.expovariate(mu) # Tempo de serviço de j-1\n",
        "        arrival_time = random.expovariate(lambd) # Tempo de chegada de j\n",
        "\n",
        "        curr_wait_time = wait_times[j-1] - arrival_time + service_time\n",
        "\n",
        "        if curr_wait_time < 0:\n",
        "            curr_wait_time = 0\n",
        "        wait_times[j] = curr_wait_time\n",
        "\n",
        "    mean = ADBib.arithmetic_mean(wait_times)\n",
        "    ci = ADBib.confidence_interval(wait_times, mean, 0.95)\n",
        "    H = ci[1] - mean\n",
        "    if (H / mean) > gamma:\n",
        "        n += 100\n",
        "\n",
        "print(f\"\\nPara n = {n}:\")\n",
        "print(f\"Para H / média = {H / mean:.6f}\")\n",
        "print(f\"Tempo Médio Estimado de Espera: {mean:.6f}\")\n",
        "print(f\"Intervalo de Confiança de 95%: {ci}\")"
      ],
      "metadata": {
        "id": "UjXYWb0olXjf",
        "colab": {
          "base_uri": "https://localhost:8080/"
        },
        "outputId": "79ef5f45-31b8-4cbd-c9e9-2815642a0a6f"
      },
      "execution_count": 40,
      "outputs": [
        {
          "output_type": "stream",
          "name": "stdout",
          "text": [
            "\n",
            "Para n = 1100:\n",
            "Para H / média = 0.049927\n",
            "Tempo Médio Estimado de Espera: 0.646269\n",
            "Intervalo de Confiança de 95%: (0.6140028537210019, 0.6785355317024394)\n"
          ]
        }
      ]
    },
    {
      "cell_type": "markdown",
      "source": [
        "**Conclusão dos Experimentos**\n",
        "\n",
        "Novamente, como os resultados de cada execução são aleatórios, vamos considerar os resultados abaixo para realizar a análise:\n",
        "\n",
        "Para n = 1100: <br>\n",
        "Para H / média = 0.049927 <br>\n",
        "Tempo Médio Estimado de Espera: 0.646269 <br>\n",
        "Intervalo de Confiança de 95%: (0.6140028537210019, 0.6785355317024394)\n",
        "\n",
        "A regra de parada do tamanho relativo do intervalo de confiança mostrou-se eficaz em determinar o número de clientes necessário para atingir a precisão relativa desejada de 5%. Com 1100 clientes simulados, a razão H/média ficou abaixo do limite de 0.05, indicando que o intervalo de confiança é suficientemente estreito em relação à média estimada.\n",
        "\n",
        "O tempo médio de espera estimado (0.6463 segundos) está próximo do valor esperado teórico para uma fila M/M/1 com taxa de chegada λ = 9 e taxa de serviço μ = 10. No entanto, é importante ressaltar que este é apenas um resultado de uma única execução da simulação. Devido à natureza estocástica do processo de chegada e serviço, o tempo médio de espera pode variar em diferentes execuções.\n",
        "\n",
        "O intervalo de confiança de 95% (0.6140 a 0.6785 segundos) fornece uma medida da incerteza associada à estimativa do tempo médio de espera. Podemos ter 95% de confiança de que o verdadeiro tempo médio de espera da população está dentro desse intervalo.\n",
        "\n",
        "O resultado da simulação indica que, para o sistema M/M/1 em questão, com as taxas de chegada e serviço especificadas, é necessário simular pelo menos 1100 clientes para obter uma estimativa do tempo médio de espera com uma precisão relativa de 5%. O tempo médio de espera estimado de 0.6463 segundos é uma estimativa pontual, e o intervalo de confiança fornece uma faixa de valores plausíveis para o verdadeiro tempo médio de espera.\n",
        "\n"
      ],
      "metadata": {
        "id": "2au0FUcFB7wh"
      }
    },
    {
      "cell_type": "markdown",
      "source": [
        "### Conclusão Geral"
      ],
      "metadata": {
        "id": "aZGCMkNnEO7u"
      }
    },
    {
      "cell_type": "markdown",
      "source": [
        "Esta atividade explorou a simulação de uma fila M/M/1 com duas regras de parada distintas: Chow e Robbins (precisão absoluta) e tamanho relativo do intervalo de confiança (precisão relativa). Ambas as regras demonstraram ser eficazes na determinação do número de clientes necessário para obter estimativas do tempo médio de espera com a precisão desejada.\n",
        "\n",
        "**Parte 1: Regra de Chow e Robbins**\n",
        "\n",
        "Os resultados mostraram que a precisão desejada (d) influencia diretamente o número de clientes (n) necessário para atingir a condição de parada. Quanto menor o valor de d (maior precisão), maior o número de clientes necessário. A variabilidade nas estimativas do tempo médio de espera foi observada, principalmente para valores menores de n, mas a tendência de convergência para o valor teórico foi evidente à medida que n aumentou.\n",
        "\n",
        "**Parte 2: Regra do Tamanho Relativo do Intervalo de Confiança**\n",
        "\n",
        "A regra do tamanho relativo do intervalo de confiança também se mostrou eficaz, convergindo para uma precisão relativa de 5% (γ = 0.05) com 1100 clientes simulados. O tempo médio de espera estimado foi próximo ao valor teórico, e o intervalo de confiança forneceu uma faixa de valores plausíveis para o verdadeiro tempo médio de espera.\n",
        "\n",
        "**Comparação das Regras de Parada implementadas**\n",
        "\n",
        "A regra de Chow e Robbins tende a exigir um número maior de clientes para atingir a mesma precisão que a regra do tamanho relativo do intervalo de confiança. Isso ocorre porque a regra de Chow e Robbins busca uma precisão absoluta, enquanto a regra do tamanho relativo busca uma precisão em relação à média estimada.\n",
        "\n",
        "**Considerações Finais**\n",
        "\n",
        "A escolha da regra de parada mais adequada depende dos objetivos da simulação e das características do sistema. A regra de Chow e Robbins pode ser preferível quando a precisão absoluta é crítica, enquanto a regra do tamanho relativo pode ser mais vantajosa quando a precisão relativa é suficiente e deseja-se minimizar o número de clientes simulados.\n",
        "\n",
        "Em ambos os casos, é importante ressaltar que os resultados da simulação são influenciados pela aleatoriedade do processo de chegada e serviço dos clientes."
      ],
      "metadata": {
        "id": "X0iHsW_KEVOM"
      }
    }
  ]
}