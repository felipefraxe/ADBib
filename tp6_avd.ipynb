{
  "nbformat": 4,
  "nbformat_minor": 0,
  "metadata": {
    "colab": {
      "provenance": [],
      "gpuType": "T4",
      "collapsed_sections": [
        "4U6ImpoRICYm",
        "y3yemm5ZITHA",
        "JhDcCRGVYfSD"
      ]
    },
    "kernelspec": {
      "name": "python3",
      "display_name": "Python 3"
    },
    "language_info": {
      "name": "python"
    },
    "accelerator": "GPU"
  },
  "cells": [
    {
      "cell_type": "markdown",
      "source": [
        "Matheus Silva dos Santos - 22052573 <br>\n",
        "Felipe Fraxe Filho - 22251894"
      ],
      "metadata": {
        "id": "HzUlnKIXb-8k"
      }
    },
    {
      "cell_type": "markdown",
      "source": [
        "## Atividade Prática 6: Projeto de Experimentos (2^k fatorial)"
      ],
      "metadata": {
        "id": "mA6CqwGxsoGn"
      }
    },
    {
      "cell_type": "code",
      "source": [
        "# Importações necessárias\n",
        "\n",
        "from itertools import product, combinations\n",
        "import pandas as pd\n",
        "import matplotlib.pyplot as plt"
      ],
      "metadata": {
        "id": "mwGwoNqcFgqP"
      },
      "execution_count": 1,
      "outputs": []
    },
    {
      "cell_type": "code",
      "source": [
        "def plot_table(df):\n",
        "    _, ax = plt.subplots(figsize=(12, 6))\n",
        "    ax.axis('tight')\n",
        "    ax.axis('off')\n",
        "    ax.table(cellText=df.values, colLabels=df.columns, cellLoc='center', loc='center')\n",
        "\n",
        "    plt.show()"
      ],
      "metadata": {
        "id": "pLOQrPmbF56h"
      },
      "execution_count": 2,
      "outputs": []
    },
    {
      "cell_type": "markdown",
      "source": [
        "#### Script com entrada direto de um arquivo\n"
      ],
      "metadata": {
        "id": "4U6ImpoRICYm"
      }
    },
    {
      "cell_type": "code",
      "source": [
        "# Exemplo de input com um arquivo\n",
        "\n",
        "import gdown\n",
        "\n",
        "gdown.download(\"https://drive.google.com/uc?id=1-kji1LCw5-nK36alwW3bJSYC5cNyCYQN\", 'input.txt', quiet=False)"
      ],
      "metadata": {
        "colab": {
          "base_uri": "https://localhost:8080/",
          "height": 110
        },
        "id": "R1wuE0KTSCFo",
        "outputId": "03482e8c-ccf7-4edf-e6e1-3309d073917c"
      },
      "execution_count": 3,
      "outputs": [
        {
          "output_type": "stream",
          "name": "stderr",
          "text": [
            "Downloading...\n",
            "From: https://drive.google.com/uc?id=1-kji1LCw5-nK36alwW3bJSYC5cNyCYQN\n",
            "To: /content/input.txt\n",
            "100%|██████████| 40.0/40.0 [00:00<00:00, 31.6kB/s]\n"
          ]
        },
        {
          "output_type": "execute_result",
          "data": {
            "text/plain": [
              "'input.txt'"
            ],
            "application/vnd.google.colaboratory.intrinsic+json": {
              "type": "string"
            }
          },
          "metadata": {},
          "execution_count": 3
        }
      ]
    },
    {
      "cell_type": "code",
      "source": [
        "values = None\n",
        "with open(\"input.txt\", \"r\") as file:\n",
        "    values = file.readlines()\n",
        "k = int(values[0].strip())\n",
        "factors = [0] * 3\n",
        "for i in range(3):\n",
        "    vals = values[i+1].strip().split(',')\n",
        "    vals[0], vals[1] = int(vals[0]), int(vals[1])\n",
        "    factors[i] = tuple(vals)\n",
        "\n",
        "num_executions = int(values[4])\n",
        "factors_combinations = product(*factors)\n",
        "\n",
        "results = [0] * (2 ** k)\n",
        "for i in range(5, len(values)):\n",
        "    results[i-5] += int(values[i])\n",
        "\n",
        "for i in range(len(results)):\n",
        "    results[i] /= num_executions\n",
        "\n",
        "data = []\n",
        "for i, combo in enumerate(factors_combinations):\n",
        "    row = [1]\n",
        "    for j, factor in enumerate(factors):\n",
        "        if combo[j] == factor[0]:\n",
        "            row.append(1)\n",
        "        else:\n",
        "            row.append(-1)\n",
        "\n",
        "    for n in range(2, k+1):\n",
        "        for combination in combinations(range(0, k), n):\n",
        "            res = 1\n",
        "            for index in combination:\n",
        "                res *= row[index+1]\n",
        "            row.append(res)\n",
        "    data.append(row + [results[i]])\n",
        "\n",
        "totals = [0] * (len(data[0]))\n",
        "for row in data:\n",
        "    val = row[-1]\n",
        "    for i, col in enumerate(row[:-1]):\n",
        "        totals[i] += (col * val)\n",
        "totals[-1] = \"Total\"\n",
        "data.append(totals)\n",
        "\n",
        "totals_div = [num / (2 ** k) for num in totals[:-1]]\n",
        "totals_div.append(f\"Total/{2 ** k}\")\n",
        "data.append(totals_div)\n",
        "\n",
        "columns = ['I'] + [chr(65 + i) for i in range(k)]\n",
        "tmp = columns[1:]\n",
        "for i in range(2, k+1):\n",
        "    for combination in combinations(tmp, i):\n",
        "        columns.append(''.join(combination))\n",
        "columns += ['Y']\n",
        "\n",
        "plot_table(pd.DataFrame(data, columns=columns))\n",
        "\n",
        "\n",
        "Q_terms = [(2 ** k) * num ** 2 for num in data[-1][1:-1]]\n",
        "SST = sum(Q_terms)\n",
        "\n",
        "plot_table(pd.DataFrame([[f\"{round((q * 100) / SST)}%\" for q in Q_terms]], columns=columns[1:-1]))"
      ],
      "metadata": {
        "colab": {
          "base_uri": "https://localhost:8080/",
          "height": 975
        },
        "id": "7jtKZgl7F6UA",
        "outputId": "d7a7e267-abe9-44d2-dfc4-ff2c5f21a4e4"
      },
      "execution_count": 7,
      "outputs": [
        {
          "output_type": "display_data",
          "data": {
            "text/plain": [
              "<Figure size 1200x600 with 1 Axes>"
            ],
            "image/png": "[encoded data removed]"
          },
          "metadata": {}
        },
        {
          "output_type": "display_data",
          "data": {
            "text/plain": [
              "<Figure size 1200x600 with 1 Axes>"
            ],
            "image/png": "[encoded data removed]"
          },
          "metadata": {}
        }
      ]
    },
    {
      "cell_type": "markdown",
      "source": [
        "Este experimento envolve três fatores, A, B e C, cada um variando entre dois níveis: um nível baixo (-1) e um nível alto (+1). Os fatores e seus níveis são os seguintes (de acordo com o arquivo input.txt de exemplo):\n",
        "\n",
        "- Fator A: 16 (alto), 4 (baixo)\n",
        "- Fator B: 2 (alto), 1 (baixo)\n",
        "- Fator C: 2 (alto), 1 (baixo)\n",
        "\n",
        "Cada combinação de fatores foi repetida uma vez (num_executions = 1). Os resultados observados para cada combinação estão na tabela abaixo.\n",
        "\n",
        "**Tabela de Sinais e Resultados Observados**\n",
        "\n",
        "| I | A | B | C | AB | AC | BC | ABC | Y   |\n",
        "|---|---|---|---|----|----|----|-----|-----|\n",
        "| 1 | 1 | 1 | 1 | 1  | 1  | 1  | 1   | 86  |\n",
        "| 1 | 1 | 1 | -1| -1 | -1 | -1 | -1  | 50  |\n",
        "| 1 | 1 | -1| 1 | -1 | 1  | -1 | -1  | 58  |\n",
        "| 1 | 1 | -1| -1| -1 | -1 | 1  | 1   | 46  |\n",
        "| 1 | -1| 1 | 1 | -1 | -1 | 1  | -1  | 34  |\n",
        "| 1 | -1| 1 | -1| -1 | 1  | -1 | 1   | 10  |\n",
        "| 1 | -1| -1| 1 | 1  | -1 | -1 | 1   | 22  |\n",
        "| 1 | -1| -1| -1| 1  | 1  | 1  | -1  | 14  |\n",
        "|320|160| 40| 80| 24 | 16 | 40 | 8   | Total|\n",
        "| 40| 20|  5| 10|  3 |  2 |  5 | 1   | Total/8|\n",
        "\n",
        "**Análise de Variância**\n",
        "\n",
        "A Análise de Variância nos permite identificar a fração de variação explicada por cada fator e suas interações.\n",
        "\n",
        "**Fração de Variação Explicada**\n",
        "\n",
        "- **Fator A (71%)**: Este é o fator mais influente no experimento, explicando a maior parte da variação nos resultados. A influência dominante de A sugere que mudanças no nível de A têm um grande impacto no resultado Y.\n",
        "  \n",
        "- **Fator B (4%)**: Este fator tem uma influência menor em comparação a A, mas ainda assim significativa. Mudanças no nível de B têm algum impacto no resultado Y, mas são menos pronunciadas.\n",
        "\n",
        "- **Fator C (18%)**: Este fator tem uma influência moderada. As mudanças no nível de C também têm um impacto notável no resultado Y, mas não tanto quanto A.\n",
        "\n",
        "- **Interação AB (2%)**: A interação entre A e B explica uma pequena parte da variação. Isso indica que os efeitos combinados de A e B sobre Y não são tão significativos.\n",
        "\n",
        "- **Interação AC (1%)**: A interação entre A e C tem um efeito menor, mas não é desprezível. Isso sugere que há alguma dependência entre A e C.\n",
        "\n",
        "- **Interação BC (4%)**: A interação entre B e C tem um impacto comparável ao fator B sozinho, sugerindo que as mudanças nos níveis de B e C em conjunto têm um efeito notável no resultado Y.\n",
        "\n",
        "- **Interação ABC (0%)**: A interação de três fatores A, B e C juntos é insignificante, indicando que o efeito combinado de todos os três fatores é praticamente inexistente.\n",
        "\n",
        "**Conclusão**\n",
        "\n",
        "Com base na análise acima, podemos concluir o seguinte:\n",
        "\n",
        "1. **Fator A** é o mais significativo, explicando 71% da variação total. Isso indica que a variável sob estudo é altamente sensível a mudanças no fator A. Qualquer esforço para otimizar o processo deve primeiro considerar ajustes no nível do fator A.\n",
        "   \n",
        "2. **Fator C** também tem uma influência considerável (18%), sugerindo que ele deve ser monitorado e controlado cuidadosamente.\n",
        "\n",
        "3. **Fator B** e as **interações BC** têm uma influência menor mas não desprezível (4% cada). As interações AB e AC são menos significativas, e a interação ABC é praticamente insignificante.\n",
        "\n",
        "4. Ao realizar o experimento, se o objetivo for minimizar ou maximizar Y, as principais atenções devem ser direcionadas para os níveis de A, seguido por C, e depois B. As interações entre os fatores devem ser consideradas, mas são menos críticas."
      ],
      "metadata": {
        "id": "fPK1gWg6VX49"
      }
    },
    {
      "cell_type": "markdown",
      "source": [
        "#### Script com input do usuário (Necessário reiniciar o ambiente se caso foi executado o script anterior!)"
      ],
      "metadata": {
        "id": "y3yemm5ZITHA"
      }
    },
    {
      "cell_type": "code",
      "source": [
        "# Solicitar a quantidade de fatores (k)\n",
        "k = -1\n",
        "while not 5 >= k >= 2:\n",
        "    k = int(input(\"Escolha a quantidade de fatores entre k=2 e k=5: \"))\n",
        "\n",
        "# Solicitar os valores máximo (+1) e mínimo (-1) para cada fator\n",
        "factors = [0] * k\n",
        "for i in range(k):\n",
        "    print(f\"Escolha os valores do fator {chr(65 + i)}:\")\n",
        "    max_val = int(input(\"Maior valor (+1): \"))\n",
        "    min_val = int(input(\"Menor valor (-1): \"))\n",
        "    factors[i] = (max_val, min_val)\n",
        "\n",
        "# Solicitar o número de repetições para cada execução piloto\n",
        "num_executions = int(input(\"Informe quantas vezes cada execução piloto será repetida: \"))\n",
        "\n",
        "# Gerar todas as combinações de fatores\n",
        "factors_combinations = list(product(*factors))\n",
        "\n",
        "# Inicializar os resultados\n",
        "results = [0] * (2 ** k)\n",
        "\n",
        "# Solicitar os resultados das execuções piloto para cada combinação de fatores\n",
        "for i, combo in enumerate(factors_combinations):\n",
        "    print(f\"Informe os resultados para a combinação {combo}:\")\n",
        "    for _ in range(num_executions):\n",
        "        results[i] += int(input(f\"Resultado da execução piloto {_ + 1}: \"))\n",
        "\n",
        "# Calcular a média dos resultados\n",
        "for i in range(len(results)):\n",
        "    results[i] /= num_executions\n",
        "\n",
        "# Preparar os dados para a tabela de sinais\n",
        "data = []\n",
        "for i, combo in enumerate(factors_combinations):\n",
        "    row = [1]\n",
        "    for j, factor in enumerate(factors):\n",
        "        if combo[j] == factor[0]:\n",
        "            row.append(1)\n",
        "        else:\n",
        "            row.append(-1)\n",
        "    for n in range(2, k+1):\n",
        "        for combination in combinations(range(0, k), n):\n",
        "            res = 1\n",
        "            for index in combination:\n",
        "                res *= row[index+1]\n",
        "            row.append(res)\n",
        "    data.append(row + [results[i]])\n",
        "\n",
        "# Calcular os totais\n",
        "totals = [0] * (len(data[0]))\n",
        "for row in data:\n",
        "    val = row[-1]\n",
        "    for i, col in enumerate(row[:-1]):\n",
        "        totals[i] += (col * val)\n",
        "totals[-1] = \"Total\"\n",
        "data.append(totals)\n",
        "\n",
        "# Calcular os totais divididos\n",
        "totals_div = [num / (2 ** k) for num in totals[:-1]]\n",
        "totals_div.append(f\"Total/{2 ** k}\")\n",
        "data.append(totals_div)\n",
        "\n",
        "# Definir os nomes das colunas\n",
        "columns = ['I'] + [chr(65 + i) for i in range(k)]\n",
        "tmp = columns[1:]\n",
        "for i in range(2, k+1):\n",
        "    for combination in combinations(tmp, i):\n",
        "        columns.append(''.join(combination))\n",
        "columns += ['Y']\n",
        "\n",
        "# Exibir a tabela de sinais e os resultados\n",
        "plot_table(pd.DataFrame(data, columns=columns))\n",
        "\n",
        "# Calcular os termos quadráticos\n",
        "Q_terms = [(2 ** k) * num ** 2 for num in data[-1][1:-1]]\n",
        "SST = sum(Q_terms)\n",
        "\n",
        "# Exibir a fração de variação explicada por cada fator\n",
        "plot_table(pd.DataFrame([[f\"{round((q * 100) / SST)}%\" for q in Q_terms]], columns=columns[1:-1]))\n"
      ],
      "metadata": {
        "colab": {
          "base_uri": "https://localhost:8080/",
          "height": 1000
        },
        "id": "FIkj-7hrIJPW",
        "outputId": "f67e862d-ec48-4a3e-8e79-373a98c1f3f9"
      },
      "execution_count": 13,
      "outputs": [
        {
          "name": "stdout",
          "output_type": "stream",
          "text": [
            "Escolha a quantidade de fatores entre k=2 e k=5: 2\n",
            "Escolha os valores do fator A:\n",
            "Maior valor (+1): 5\n",
            "Menor valor (-1): 1\n",
            "Escolha os valores do fator B:\n",
            "Maior valor (+1): 8\n",
            "Menor valor (-1): 2\n",
            "Informe quantas vezes cada execução piloto será repetida: 1\n",
            "Informe os resultados para a combinação (5, 8):\n",
            "Resultado da execução piloto 1: 10\n",
            "Informe os resultados para a combinação (5, 2):\n",
            "Resultado da execução piloto 1: 5\n",
            "Informe os resultados para a combinação (1, 8):\n",
            "Resultado da execução piloto 1: 3\n",
            "Informe os resultados para a combinação (1, 2):\n",
            "Resultado da execução piloto 1: 2\n"
          ]
        },
        {
          "output_type": "display_data",
          "data": {
            "text/plain": [
              "<Figure size 1200x600 with 1 Axes>"
            ],
            "image/png": "[encoded data removed]"
          },
          "metadata": {}
        },
        {
          "output_type": "display_data",
          "data": {
            "text/plain": [
              "<Figure size 1200x600 with 1 Axes>"
            ],
            "image/png": "[encoded data removed]"
          },
          "metadata": {}
        }
      ]
    },
    {
      "cell_type": "markdown",
      "source": [
        "O experimento fatorial $(2^k)$ acima foi conduzido com dois fatores (A e B), cada um variando entre dois níveis: o maior valor (+1) e o menor valor (-1). A tabela de sinais foi gerada para todas as combinações possíveis dos fatores. Os resultados foram obtidos para cada combinação e a fração de variação explicada por cada fator foi calculada.\n",
        "\n",
        "**Parâmetros do Experimento**\n",
        "\n",
        "- **Fatores:**\n",
        "  - Fator A: [5 (nível +1), 1 (nível -1)]\n",
        "  - Fator B: [8 (nível +1), 2 (nível -1)]\n",
        "- **Execuções piloto por combinação:** 1\n",
        "\n",
        "**Resultados Coletados**\n",
        "\n",
        "| A  | B  | Y  |\n",
        "|---|---|---|\n",
        "| 5 | 8 | 10 |\n",
        "| 5 | 2 | 5  |\n",
        "| 1 | 8 | 3  |\n",
        "| 1 | 2 | 2  |\n",
        "\n",
        "**Tabela de Sinais e Resultados Médios**\n",
        "\n",
        "A tabela de sinais gerada para as combinações dos fatores A e B e os resultados médios são apresentados a seguir:\n",
        "\n",
        "| I  | A  | B  | AB | Y  |\n",
        "|---|---|---|---|---|\n",
        "| 1 | 1 | 1 | 1 | 10.0 |\n",
        "| 1 | 1 | -1| -1| 5.0  |\n",
        "| 1 | -1| 1 | -1| 3.0  |\n",
        "| 1 | -1| -1| 1 | 2.0  |\n",
        "| 20.0| 10.0| 6.0| 4.0| Total |\n",
        "| 5.0| 2.5 | 1.5 | 1.0 | Total/4 |\n",
        "\n",
        "**Cálculo dos Totais e Médias**\n",
        "\n",
        "Os totais para cada coluna foram calculados como a soma dos produtos dos sinais e os resultados. Os totais foram então divididos por $(2^k)$ para obter as médias.\n",
        "\n",
        "- **Total:** [20.0, 10.0, 6.0, 4.0]\n",
        "- **Total/4:** [5.0, 2.5, 1.5, 1.0]\n",
        "\n",
        "**Análise da Variância**\n",
        "\n",
        "A Análise da Variância foi realizada para determinar a fração de variação explicada por cada fator do experimento.\n",
        "\n",
        "- **Termos Quadráticos (Q):**\n",
        "  Cada fator e interação teve seu \"termo quadrático\" calculado, o que basicamente representa a contribuição de cada um para a variação total nos resultados.\n",
        "\n",
        "  - Para o fator A, o termo quadrático foi calculado como 25.\n",
        "  - Para o fator B, o termo quadrático foi 9.\n",
        "  - Para a interação entre os fatores A e B, o termo quadrático foi 4.\n",
        "\n",
        "- **Soma Total dos Quadrados (SST):**\n",
        "  A soma total dos quadrados é a soma de todos os termos quadráticos, que resultou em 38.\n",
        "\n",
        "- **Fração de Variação Explicada:**\n",
        "  A fração de variação explicada por cada fator foi determinada dividindo o termo quadrático de cada fator pela soma total dos quadrados e convertendo o resultado em porcentagem.\n",
        "\n",
        "  - O fator A explica aproximadamente 66% da variação total nos resultados.\n",
        "  - O fator B explica cerca de 24% da variação total.\n",
        "  - A interação entre os fatores A e B explica cerca de 11% da variação total.\n",
        "\n",
        "**Conclusão**\n",
        "\n",
        "A partir dos resultados e da análise da variância, podemos tirar as seguintes conclusões sobre o experimento:\n",
        "\n",
        "1. **Fator A (66%)**: O fator A é o que mais contribui para a variação dos resultados. Com uma fração de variação explicada de 66%, ele tem o maior impacto no resultado Y.\n",
        "  \n",
        "2. **Fator B (24%)**: O fator B também contribui significativamente para a variação dos resultados, embora menos que o fator A. Sua fração de variação explicada é de 24%.\n",
        "\n",
        "3. **Interação AB (11%)**: A interação entre os fatores A e B também tem um impacto, embora menor, com uma fração de variação explicada de 11%. Isso indica que a combinação dos níveis dos fatores A e B afeta o resultado, mas não tanto quanto cada fator individualmente.\n",
        "\n",
        "Esses resultados mostram que, para otimizar o resultado Y, deve-se focar principalmente no ajuste do fator A, seguido pelo fator B e, em menor grau, considerar a interação entre os fatores A e B. Essa análise é crucial para entender como cada fator influencia o processo e pode ajudar na tomada de decisões para melhorar o desempenho ou a eficiência do sistema avaliado."
      ],
      "metadata": {
        "id": "lpQqebjBXdt2"
      }
    },
    {
      "cell_type": "markdown",
      "source": [
        "#### Conclusão Geral sobre o Projeto de Experimento"
      ],
      "metadata": {
        "id": "JhDcCRGVYfSD"
      }
    },
    {
      "cell_type": "markdown",
      "source": [
        "\n",
        "O experimento 2^k fatorial permite a identificação de quais fatores têm o maior impacto na variável de resposta\n",
        "\n",
        "Uma das grandes vantagens deste método é a capacidade de investigar as interações entre diferentes fatores. A interação entre fatores pode ter um efeito significativo na resposta, muitas vezes maior do que os efeitos dos fatores individuais. Compreender essas interações pode levar a uma otimização mais eficaz dos processos.\n",
        "\n",
        "O design fatorial 2^k é altamente eficiente, especialmente quando comparado a outras abordagens experimentais. Ele permite a avaliação simultânea de múltiplos fatores com um número relativamente pequeno de experimentos, economizando tempo e recursos.\n",
        "\n",
        "A análise de resultados de um experimento fatorial 2^k é direta e permite uma visualização clara das contribuições de cada fator e de suas interações. Isso facilita a tomada de decisões informadas sobre como ajustar os fatores para obter os resultados desejados.\n",
        "\n",
        "Este método pode ser aplicado em uma variedade de contextos, desde a otimização de processos industriais até a melhoria de formulações de produtos e o desenvolvimento de novos materiais. Sua versatilidade o torna uma ferramenta essencial em qualquer área onde a experimentação é necessária.\n",
        "\n",
        "A importância dos experimentos do tipo 2^k fatorial reside em sua capacidade de fornecer uma compreensão profunda e abrangente dos fatores que influenciam um processo ou sistema. Eles são fundamentais para a melhoria contínua e a inovação, permitindo aos cientistas e engenheiros identificar os caminhos mais eficientes para alcançar os objetivos desejados. Através da utilização deste método, é possível alcançar uma maior qualidade, eficiência e eficácia nos processos, resultando em produtos e serviços superiores."
      ],
      "metadata": {
        "id": "bRGbBIwkYlvh"
      }
    }
  ]
}